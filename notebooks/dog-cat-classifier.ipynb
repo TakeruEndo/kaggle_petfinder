{
 "cells": [
  {
   "cell_type": "code",
   "execution_count": 1,
   "id": "3be4f2c0",
   "metadata": {
    "execution": {
     "iopub.execute_input": "2021-10-06T04:38:08.176266Z",
     "iopub.status.busy": "2021-10-06T04:38:08.175484Z",
     "iopub.status.idle": "2021-10-06T04:38:16.957036Z",
     "shell.execute_reply": "2021-10-06T04:38:16.957931Z",
     "shell.execute_reply.started": "2021-10-06T04:35:34.625287Z"
    },
    "papermill": {
     "duration": 8.875604,
     "end_time": "2021-10-06T04:38:16.958215",
     "exception": false,
     "start_time": "2021-10-06T04:38:08.082611",
     "status": "completed"
    },
    "tags": []
   },
   "outputs": [
    {
     "name": "stdout",
     "output_type": "stream",
     "text": [
      "Collecting timm\r\n",
      "  Downloading timm-0.4.12-py3-none-any.whl (376 kB)\r\n",
      "\u001b[K     |████████████████████████████████| 376 kB 808 kB/s \r\n",
      "\u001b[?25hRequirement already satisfied: torchvision in /opt/conda/lib/python3.7/site-packages (from timm) (0.8.2+cu110)\r\n",
      "Requirement already satisfied: torch>=1.4 in /opt/conda/lib/python3.7/site-packages (from timm) (1.7.1+cu110)\r\n",
      "Requirement already satisfied: numpy in /opt/conda/lib/python3.7/site-packages (from torch>=1.4->timm) (1.19.5)\r\n",
      "Requirement already satisfied: typing-extensions in /opt/conda/lib/python3.7/site-packages (from torch>=1.4->timm) (3.7.4.3)\r\n",
      "Requirement already satisfied: pillow>=4.1.1 in /opt/conda/lib/python3.7/site-packages (from torchvision->timm) (8.2.0)\r\n",
      "Installing collected packages: timm\r\n",
      "Successfully installed timm-0.4.12\r\n",
      "\u001b[33mWARNING: Running pip as the 'root' user can result in broken permissions and conflicting behaviour with the system package manager. It is recommended to use a virtual environment instead: https://pip.pypa.io/warnings/venv\u001b[0m\r\n"
     ]
    }
   ],
   "source": [
    "!pip install timm"
   ]
  },
  {
   "cell_type": "code",
   "execution_count": 2,
   "id": "9ac0de11",
   "metadata": {
    "_cell_guid": "b1076dfc-b9ad-4769-8c92-a6c4dae69d19",
    "_uuid": "8f2839f25d086af736a60e9eeb907d3b93b6e0e5",
    "execution": {
     "iopub.execute_input": "2021-10-06T04:38:16.997592Z",
     "iopub.status.busy": "2021-10-06T04:38:16.996971Z",
     "iopub.status.idle": "2021-10-06T04:38:23.973868Z",
     "shell.execute_reply": "2021-10-06T04:38:23.974646Z",
     "shell.execute_reply.started": "2021-10-06T04:35:41.307100Z"
    },
    "papermill": {
     "duration": 7.00076,
     "end_time": "2021-10-06T04:38:23.974911",
     "exception": false,
     "start_time": "2021-10-06T04:38:16.974151",
     "status": "completed"
    },
    "tags": []
   },
   "outputs": [],
   "source": [
    "import os\n",
    "import sys\n",
    "from glob import glob\n",
    "\n",
    "import cv2\n",
    "import warnings\n",
    "import argparse\n",
    "import random\n",
    "import gc\n",
    "import pandas as pd\n",
    "from glob import glob\n",
    "from tqdm import tqdm\n",
    "import numpy as np\n",
    "import torchvision\n",
    "from torchvision import datasets, transforms\n",
    "import torch\n",
    "import torch.nn as nn\n",
    "from torch.cuda.amp import autocast, GradScaler\n",
    "import matplotlib\n",
    "import matplotlib.pyplot as plt\n",
    "from sklearn.metrics import accuracy_score\n",
    "\n",
    "from sklearn.model_selection import train_test_split\n",
    "import torch\n",
    "import torch.nn as nn\n",
    "import torch.nn.functional as F\n",
    "import torchvision\n",
    "from torch.utils.data import DataLoader, random_split, Dataset\n",
    "\n",
    "import timm\n",
    "import albumentations as A\n",
    "from albumentations.pytorch import ToTensorV2\n",
    "from torch.optim.lr_scheduler import CosineAnnealingWarmRestarts, CosineAnnealingLR, ReduceLROnPlateau\n",
    "\n",
    "from sklearn.model_selection import KFold, GroupKFold, train_test_split, StratifiedKFold\n",
    "warnings.simplefilter('ignore')"
   ]
  },
  {
   "cell_type": "code",
   "execution_count": 3,
   "id": "45d229f1",
   "metadata": {
    "execution": {
     "iopub.execute_input": "2021-10-06T04:38:24.044224Z",
     "iopub.status.busy": "2021-10-06T04:38:24.038828Z",
     "iopub.status.idle": "2021-10-06T04:38:32.098563Z",
     "shell.execute_reply": "2021-10-06T04:38:32.099395Z",
     "shell.execute_reply.started": "2021-10-06T04:35:41.319048Z"
    },
    "papermill": {
     "duration": 8.099772,
     "end_time": "2021-10-06T04:38:32.099614",
     "exception": false,
     "start_time": "2021-10-06T04:38:23.999842",
     "status": "completed"
    },
    "tags": []
   },
   "outputs": [
    {
     "name": "stdout",
     "output_type": "stream",
     "text": [
      "9997 20580\n"
     ]
    }
   ],
   "source": [
    "cat_path = glob(\"../input/cat-dataset/*/*.jpg\")\n",
    "dog_path = glob(\"../input/stanford-dogs-dataset/images/Images/*/*.jpg\")\n",
    "print(len(cat_path), len(dog_path))"
   ]
  },
  {
   "cell_type": "code",
   "execution_count": 4,
   "id": "17afc713",
   "metadata": {
    "execution": {
     "iopub.execute_input": "2021-10-06T04:38:32.161098Z",
     "iopub.status.busy": "2021-10-06T04:38:32.135599Z",
     "iopub.status.idle": "2021-10-06T04:38:32.165413Z",
     "shell.execute_reply": "2021-10-06T04:38:32.164920Z",
     "shell.execute_reply.started": "2021-10-06T04:35:41.514518Z"
    },
    "papermill": {
     "duration": 0.051269,
     "end_time": "2021-10-06T04:38:32.165534",
     "exception": false,
     "start_time": "2021-10-06T04:38:32.114265",
     "status": "completed"
    },
    "tags": []
   },
   "outputs": [],
   "source": [
    "dog_df = pd.DataFrame(columns=[\"file_path\", \"label\"])\n",
    "dog_df[\"file_path\"] = dog_path\n",
    "dog_df[\"label\"] = 0\n",
    "\n",
    "cat_df = pd.DataFrame(columns=[\"file_path\", \"label\"])\n",
    "cat_df[\"file_path\"] = cat_path\n",
    "cat_df[\"label\"] = 1\n",
    "\n",
    "df = pd.concat([dog_df, cat_df], axis=0)\n",
    "df = df.reset_index(drop=True)"
   ]
  },
  {
   "cell_type": "code",
   "execution_count": 5,
   "id": "11f824cf",
   "metadata": {
    "execution": {
     "iopub.execute_input": "2021-10-06T04:38:32.199637Z",
     "iopub.status.busy": "2021-10-06T04:38:32.198950Z",
     "iopub.status.idle": "2021-10-06T04:38:32.201128Z",
     "shell.execute_reply": "2021-10-06T04:38:32.201514Z",
     "shell.execute_reply.started": "2021-10-06T04:35:41.546256Z"
    },
    "papermill": {
     "duration": 0.022217,
     "end_time": "2021-10-06T04:38:32.201644",
     "exception": false,
     "start_time": "2021-10-06T04:38:32.179427",
     "status": "completed"
    },
    "tags": []
   },
   "outputs": [],
   "source": [
    "class CatDogDataset(Dataset):\n",
    "\n",
    "    def __init__(self, df, transforms, type_):\n",
    "        self.type = type_\n",
    "        self.df = df\n",
    "        self.transforms = transforms\n",
    "        self.file_names = df['file_path'].values\n",
    "        self.labels = df[\"label\"].values\n",
    "\n",
    "    def __len__(self):\n",
    "        return len(self.df)\n",
    "\n",
    "    def __getitem__(self, index):\n",
    "        path = self.file_names[index]\n",
    "        image = cv2.imread(path)\n",
    "        image = cv2.cvtColor(image, cv2.COLOR_BGR2RGB)\n",
    "        image = self.transforms(image=image)['image'].float()\n",
    "        label = torch.tensor(self.labels[index]).long()\n",
    "        return image, label"
   ]
  },
  {
   "cell_type": "code",
   "execution_count": 6,
   "id": "e2767749",
   "metadata": {
    "execution": {
     "iopub.execute_input": "2021-10-06T04:38:32.236047Z",
     "iopub.status.busy": "2021-10-06T04:38:32.235054Z",
     "iopub.status.idle": "2021-10-06T04:38:32.237514Z",
     "shell.execute_reply": "2021-10-06T04:38:32.238244Z",
     "shell.execute_reply.started": "2021-10-06T04:35:41.555137Z"
    },
    "papermill": {
     "duration": 0.023174,
     "end_time": "2021-10-06T04:38:32.238392",
     "exception": false,
     "start_time": "2021-10-06T04:38:32.215218",
     "status": "completed"
    },
    "tags": []
   },
   "outputs": [],
   "source": [
    "image_size = 384\n",
    "def train_transforms():\n",
    "    train_transform = A.Compose(\n",
    "        [\n",
    "            A.RandomResizedCrop(int(image_size), int(\n",
    "                image_size), scale=(0.90, 1.0)),\n",
    "            A.RandomBrightnessContrast(p=0.2),\n",
    "            A.ShiftScaleRotate(p=0.5),\n",
    "            A.Normalize(mean=[0.485, 0.456, 0.406], std=[0.229, 0.224, 0.225], max_pixel_value=255.0, p=1.0),\n",
    "            ToTensorV2(),\n",
    "        ]\n",
    "    )\n",
    "    return train_transform\n",
    "\n",
    "def valid_transforms():\n",
    "    valid_transform = A.Compose(\n",
    "        [\n",
    "            A.Resize(image_size, image_size),\n",
    "            A.Normalize(mean=[0.485, 0.456, 0.406], std=[0.229, 0.224, 0.225], max_pixel_value=255.0, p=1.0),\n",
    "            ToTensorV2(),\n",
    "        ]\n",
    "    )\n",
    "    return valid_transform"
   ]
  },
  {
   "cell_type": "code",
   "execution_count": 7,
   "id": "b22dfd8c",
   "metadata": {
    "execution": {
     "iopub.execute_input": "2021-10-06T04:38:32.272617Z",
     "iopub.status.busy": "2021-10-06T04:38:32.269076Z",
     "iopub.status.idle": "2021-10-06T04:38:32.285205Z",
     "shell.execute_reply": "2021-10-06T04:38:32.285626Z",
     "shell.execute_reply.started": "2021-10-06T04:35:41.565612Z"
    },
    "papermill": {
     "duration": 0.034103,
     "end_time": "2021-10-06T04:38:32.285754",
     "exception": false,
     "start_time": "2021-10-06T04:38:32.251651",
     "status": "completed"
    },
    "tags": []
   },
   "outputs": [],
   "source": [
    "df[\"fold\"] = 0\n",
    "Fold = StratifiedKFold(n_splits=5, shuffle=True, random_state=241)\n",
    "for n, (train_index, val_index) in enumerate(Fold.split(df, df.label)):\n",
    "    df.loc[val_index, 'fold'] = int(n)"
   ]
  },
  {
   "cell_type": "code",
   "execution_count": 8,
   "id": "c2cbefbc",
   "metadata": {
    "execution": {
     "iopub.execute_input": "2021-10-06T04:38:32.318039Z",
     "iopub.status.busy": "2021-10-06T04:38:32.317230Z",
     "iopub.status.idle": "2021-10-06T04:38:32.327138Z",
     "shell.execute_reply": "2021-10-06T04:38:32.327669Z",
     "shell.execute_reply.started": "2021-10-06T04:35:41.587067Z"
    },
    "papermill": {
     "duration": 0.028724,
     "end_time": "2021-10-06T04:38:32.327801",
     "exception": false,
     "start_time": "2021-10-06T04:38:32.299077",
     "status": "completed"
    },
    "tags": []
   },
   "outputs": [
    {
     "data": {
      "text/html": [
       "<div>\n",
       "<style scoped>\n",
       "    .dataframe tbody tr th:only-of-type {\n",
       "        vertical-align: middle;\n",
       "    }\n",
       "\n",
       "    .dataframe tbody tr th {\n",
       "        vertical-align: top;\n",
       "    }\n",
       "\n",
       "    .dataframe thead th {\n",
       "        text-align: right;\n",
       "    }\n",
       "</style>\n",
       "<table border=\"1\" class=\"dataframe\">\n",
       "  <thead>\n",
       "    <tr style=\"text-align: right;\">\n",
       "      <th></th>\n",
       "      <th>file_path</th>\n",
       "      <th>label</th>\n",
       "      <th>fold</th>\n",
       "    </tr>\n",
       "  </thead>\n",
       "  <tbody>\n",
       "    <tr>\n",
       "      <th>0</th>\n",
       "      <td>../input/stanford-dogs-dataset/images/Images/n...</td>\n",
       "      <td>0</td>\n",
       "      <td>3</td>\n",
       "    </tr>\n",
       "    <tr>\n",
       "      <th>1</th>\n",
       "      <td>../input/stanford-dogs-dataset/images/Images/n...</td>\n",
       "      <td>0</td>\n",
       "      <td>4</td>\n",
       "    </tr>\n",
       "    <tr>\n",
       "      <th>2</th>\n",
       "      <td>../input/stanford-dogs-dataset/images/Images/n...</td>\n",
       "      <td>0</td>\n",
       "      <td>3</td>\n",
       "    </tr>\n",
       "    <tr>\n",
       "      <th>3</th>\n",
       "      <td>../input/stanford-dogs-dataset/images/Images/n...</td>\n",
       "      <td>0</td>\n",
       "      <td>4</td>\n",
       "    </tr>\n",
       "    <tr>\n",
       "      <th>4</th>\n",
       "      <td>../input/stanford-dogs-dataset/images/Images/n...</td>\n",
       "      <td>0</td>\n",
       "      <td>0</td>\n",
       "    </tr>\n",
       "  </tbody>\n",
       "</table>\n",
       "</div>"
      ],
      "text/plain": [
       "                                           file_path  label  fold\n",
       "0  ../input/stanford-dogs-dataset/images/Images/n...      0     3\n",
       "1  ../input/stanford-dogs-dataset/images/Images/n...      0     4\n",
       "2  ../input/stanford-dogs-dataset/images/Images/n...      0     3\n",
       "3  ../input/stanford-dogs-dataset/images/Images/n...      0     4\n",
       "4  ../input/stanford-dogs-dataset/images/Images/n...      0     0"
      ]
     },
     "execution_count": 8,
     "metadata": {},
     "output_type": "execute_result"
    }
   ],
   "source": [
    "df.head()"
   ]
  },
  {
   "cell_type": "code",
   "execution_count": 9,
   "id": "ff068d70",
   "metadata": {
    "execution": {
     "iopub.execute_input": "2021-10-06T04:38:32.365161Z",
     "iopub.status.busy": "2021-10-06T04:38:32.364131Z",
     "iopub.status.idle": "2021-10-06T04:38:32.366169Z",
     "shell.execute_reply": "2021-10-06T04:38:32.366629Z",
     "shell.execute_reply.started": "2021-10-06T04:37:26.554900Z"
    },
    "papermill": {
     "duration": 0.025353,
     "end_time": "2021-10-06T04:38:32.366751",
     "exception": false,
     "start_time": "2021-10-06T04:38:32.341398",
     "status": "completed"
    },
    "tags": []
   },
   "outputs": [],
   "source": [
    "class Custom2DCNN(nn.Module):\n",
    "    def __init__(self):\n",
    "        super(Custom2DCNN, self).__init__()\n",
    "        model_name = \"tf_efficientnet_b1\"\n",
    "        backborn = timm.create_model(model_name, pretrained=True, in_chans=3)\n",
    "        if 'efficientnet' in model_name:\n",
    "            n_features = backborn.classifier.in_features\n",
    "            backborn.classifier = nn.Identity()\n",
    "            self.backborn = backborn\n",
    "        else:\n",
    "            n_features = list(backborn.children())[-1].in_features\n",
    "            backborn = list(backborn.children())[:-1]\n",
    "            self.backborn = torch.nn.Sequential(*backborn)\n",
    "        self.fc = nn.Linear(n_features, 1)\n",
    "\n",
    "    def forward(self, x):\n",
    "        x = self.backborn(x)\n",
    "        x = self.fc(x)\n",
    "        return x"
   ]
  },
  {
   "cell_type": "code",
   "execution_count": 10,
   "id": "72ee0d3a",
   "metadata": {
    "execution": {
     "iopub.execute_input": "2021-10-06T04:38:32.396951Z",
     "iopub.status.busy": "2021-10-06T04:38:32.396141Z",
     "iopub.status.idle": "2021-10-06T04:38:32.404260Z",
     "shell.execute_reply": "2021-10-06T04:38:32.404649Z",
     "shell.execute_reply.started": "2021-10-06T04:37:26.733742Z"
    },
    "papermill": {
     "duration": 0.024386,
     "end_time": "2021-10-06T04:38:32.404775",
     "exception": false,
     "start_time": "2021-10-06T04:38:32.380389",
     "status": "completed"
    },
    "tags": []
   },
   "outputs": [],
   "source": [
    "def train_fn(epoch, model, loss_fn, optimizer, train_loader, scaler, device, scheduler=None):\n",
    "    model.train()\n",
    "    losses = AverageMeter()\n",
    "    pbar = tqdm(enumerate(train_loader), total=len(train_loader))\n",
    "    for step, (imgs, image_labels) in pbar:\n",
    "        imgs = imgs.to(device).float()\n",
    "        image_labels = image_labels.to(device).float()\n",
    "\n",
    "        with autocast():\n",
    "            y_preds = model(imgs).squeeze(1)\n",
    "            loss = loss_fn(y_preds, image_labels)\n",
    "        scaler.scale(loss).backward()\n",
    "        if ((step + 1) % 2 == 0) or ((step + 1) == len(train_loader)):\n",
    "            # may unscale_ here if desired (e.g., to allow clipping unscaled gradients)\n",
    "            scaler.step(optimizer)\n",
    "            scaler.update()\n",
    "            optimizer.zero_grad()\n",
    "        losses.update(loss.item(), 32)\n",
    "\n",
    "    if ((step + 1) % 1 == 0) or ((step + 1) == len(train_loader)):\n",
    "        description = f'epoch {epoch} loss: {losses.avg:.4f}'\n",
    "        pbar.set_description(description)\n",
    "    scheduler.step()\n",
    "\n",
    "    return losses.avg"
   ]
  },
  {
   "cell_type": "code",
   "execution_count": 11,
   "id": "6c13b0c6",
   "metadata": {
    "execution": {
     "iopub.execute_input": "2021-10-06T04:38:32.441549Z",
     "iopub.status.busy": "2021-10-06T04:38:32.440806Z",
     "iopub.status.idle": "2021-10-06T04:38:32.443396Z",
     "shell.execute_reply": "2021-10-06T04:38:32.442687Z",
     "shell.execute_reply.started": "2021-10-06T04:37:26.900723Z"
    },
    "papermill": {
     "duration": 0.024891,
     "end_time": "2021-10-06T04:38:32.443500",
     "exception": false,
     "start_time": "2021-10-06T04:38:32.418609",
     "status": "completed"
    },
    "tags": []
   },
   "outputs": [],
   "source": [
    "def valid_fn(epoch, model, loss_fn, val_loader, device, scheduler=None):\n",
    "    model.eval()\n",
    "    losses = AverageMeter()\n",
    "    image_preds_all = []\n",
    "    image_targets_all = []\n",
    "    pbar = tqdm(enumerate(val_loader), total=len(val_loader))\n",
    "    for step, (imgs, image_labels) in pbar:\n",
    "        imgs = imgs.to(device).float()\n",
    "        image_labels = image_labels.to(device).float()\n",
    "\n",
    "        image_preds = model(imgs).squeeze(1)  # output = model(input)\n",
    "        image_preds_all += [np.where(image_preds.detach().cpu().numpy() < 0.5, 0, 1)]\n",
    "        image_targets_all += [image_labels.detach().cpu().numpy()]\n",
    "\n",
    "        loss = loss_fn(image_preds, image_labels)\n",
    "        losses.update(loss.item(), 32)\n",
    "\n",
    "\n",
    "        if ((step + 1) % 1 == 0) or ((step + 1) == len(val_loader)):\n",
    "            description = f'epoch {epoch} loss: {losses.avg:.4f}'\n",
    "            pbar.set_description(description)\n",
    "\n",
    "    image_preds_all = np.concatenate(image_preds_all)\n",
    "    image_targets_all = np.concatenate(image_targets_all)\n",
    "    print('validation class accuracy = {:.4f}'.format((image_preds_all == image_targets_all).mean()))\n",
    "\n",
    "    return losses.avg, image_preds_all, image_targets_all"
   ]
  },
  {
   "cell_type": "code",
   "execution_count": 12,
   "id": "12882112",
   "metadata": {
    "execution": {
     "iopub.execute_input": "2021-10-06T04:38:32.477194Z",
     "iopub.status.busy": "2021-10-06T04:38:32.476433Z",
     "iopub.status.idle": "2021-10-06T04:38:32.478856Z",
     "shell.execute_reply": "2021-10-06T04:38:32.478429Z",
     "shell.execute_reply.started": "2021-10-06T04:37:27.123274Z"
    },
    "papermill": {
     "duration": 0.021659,
     "end_time": "2021-10-06T04:38:32.478957",
     "exception": false,
     "start_time": "2021-10-06T04:38:32.457298",
     "status": "completed"
    },
    "tags": []
   },
   "outputs": [],
   "source": [
    "def get_score(y_true, y_pred):\n",
    "    return accuracy_score(y_true, y_pred)\n",
    "\n",
    "class AverageMeter(object):\n",
    "    \"\"\"Computes and stores the average and current value\"\"\"\n",
    "    def __init__(self):\n",
    "        self.reset()\n",
    "\n",
    "    def reset(self):\n",
    "        self.val = 0\n",
    "        self.avg = 0\n",
    "        self.sum = 0\n",
    "        self.count = 0\n",
    "\n",
    "    def update(self, val, n=1):\n",
    "        self.val = val\n",
    "        self.sum += val * n\n",
    "        self.count += n\n",
    "        self.avg = self.sum / self.count"
   ]
  },
  {
   "cell_type": "code",
   "execution_count": 13,
   "id": "b02689e2",
   "metadata": {
    "execution": {
     "iopub.execute_input": "2021-10-06T04:38:32.517619Z",
     "iopub.status.busy": "2021-10-06T04:38:32.516597Z",
     "iopub.status.idle": "2021-10-06T09:38:08.719852Z",
     "shell.execute_reply": "2021-10-06T09:38:08.720283Z"
    },
    "papermill": {
     "duration": 17976.227896,
     "end_time": "2021-10-06T09:38:08.720475",
     "exception": false,
     "start_time": "2021-10-06T04:38:32.492579",
     "status": "completed"
    },
    "tags": []
   },
   "outputs": [
    {
     "name": "stderr",
     "output_type": "stream",
     "text": [
      "Downloading: \"https://github.com/rwightman/pytorch-image-models/releases/download/v0.1-weights/tf_efficientnet_b1_aa-ea7a6ee0.pth\" to /root/.cache/torch/hub/checkpoints/tf_efficientnet_b1_aa-ea7a6ee0.pth\n",
      "100%|██████████| 764/764 [06:33<00:00,  1.94it/s]\n",
      "epoch 0 loss: 0.0039: 100%|██████████| 191/191 [01:04<00:00,  2.95it/s]\n"
     ]
    },
    {
     "name": "stdout",
     "output_type": "stream",
     "text": [
      "validation class accuracy = 0.9989\n",
      "Epoch 1 - avg_train_loss: 0.0489  avg_val_loss: 0.0039\n",
      "Epoch 1 - Accuracy: 0.9988547120418848\n",
      "Epoch 1 - Save Best Score: 0.9989 Model\n"
     ]
    },
    {
     "name": "stderr",
     "output_type": "stream",
     "text": [
      "100%|██████████| 764/764 [06:23<00:00,  1.99it/s]\n",
      "epoch 1 loss: 0.0025: 100%|██████████| 191/191 [01:01<00:00,  3.12it/s]\n"
     ]
    },
    {
     "name": "stdout",
     "output_type": "stream",
     "text": [
      "validation class accuracy = 0.9990\n",
      "Epoch 2 - avg_train_loss: 0.0044  avg_val_loss: 0.0025\n",
      "Epoch 2 - Accuracy: 0.9990183246073299\n",
      "Epoch 2 - Save Best Score: 0.9990 Model\n"
     ]
    },
    {
     "name": "stderr",
     "output_type": "stream",
     "text": [
      "100%|██████████| 764/764 [06:23<00:00,  1.99it/s]\n",
      "epoch 2 loss: 0.0038: 100%|██████████| 191/191 [01:03<00:00,  3.03it/s]"
     ]
    },
    {
     "name": "stdout",
     "output_type": "stream",
     "text": [
      "validation class accuracy = 0.9989\n",
      "Epoch 3 - avg_train_loss: 0.0026  avg_val_loss: 0.0038\n",
      "Epoch 3 - Accuracy: 0.9988547120418848\n"
     ]
    },
    {
     "name": "stderr",
     "output_type": "stream",
     "text": [
      "\n",
      "100%|██████████| 764/764 [06:27<00:00,  1.97it/s]\n",
      "epoch 3 loss: 0.0011: 100%|██████████| 191/191 [01:04<00:00,  2.96it/s]\n"
     ]
    },
    {
     "name": "stdout",
     "output_type": "stream",
     "text": [
      "validation class accuracy = 0.9997\n",
      "Epoch 4 - avg_train_loss: 0.0022  avg_val_loss: 0.0011\n",
      "Epoch 4 - Accuracy: 0.99967277486911\n",
      "Epoch 4 - Save Best Score: 0.9997 Model\n"
     ]
    },
    {
     "name": "stderr",
     "output_type": "stream",
     "text": [
      "100%|██████████| 764/764 [06:26<00:00,  1.97it/s]\n",
      "epoch 4 loss: 0.0022: 100%|██████████| 191/191 [01:02<00:00,  3.04it/s]"
     ]
    },
    {
     "name": "stdout",
     "output_type": "stream",
     "text": [
      "validation class accuracy = 0.9992\n",
      "Epoch 5 - avg_train_loss: 0.0027  avg_val_loss: 0.0022\n",
      "Epoch 5 - Accuracy: 0.9991819371727748\n"
     ]
    },
    {
     "name": "stderr",
     "output_type": "stream",
     "text": [
      "\n",
      "100%|██████████| 764/764 [06:26<00:00,  1.97it/s]\n",
      "epoch 5 loss: 0.0045: 100%|██████████| 191/191 [01:03<00:00,  3.00it/s]"
     ]
    },
    {
     "name": "stdout",
     "output_type": "stream",
     "text": [
      "validation class accuracy = 0.9990\n",
      "Epoch 6 - avg_train_loss: 0.0012  avg_val_loss: 0.0045\n",
      "Epoch 6 - Accuracy: 0.9990183246073299\n"
     ]
    },
    {
     "name": "stderr",
     "output_type": "stream",
     "text": [
      "\n",
      "100%|██████████| 764/764 [06:27<00:00,  1.97it/s]\n",
      "epoch 6 loss: 0.0023: 100%|██████████| 191/191 [01:03<00:00,  3.03it/s]"
     ]
    },
    {
     "name": "stdout",
     "output_type": "stream",
     "text": [
      "validation class accuracy = 0.9993\n",
      "Epoch 7 - avg_train_loss: 0.0013  avg_val_loss: 0.0023\n",
      "Epoch 7 - Accuracy: 0.9993455497382199\n"
     ]
    },
    {
     "name": "stderr",
     "output_type": "stream",
     "text": [
      "\n",
      "100%|██████████| 764/764 [06:25<00:00,  1.98it/s]\n",
      "epoch 7 loss: 0.0013: 100%|██████████| 191/191 [01:02<00:00,  3.04it/s]"
     ]
    },
    {
     "name": "stdout",
     "output_type": "stream",
     "text": [
      "validation class accuracy = 0.9993\n",
      "Epoch 8 - avg_train_loss: 0.0009  avg_val_loss: 0.0013\n",
      "Epoch 8 - Accuracy: 0.9993455497382199\n"
     ]
    },
    {
     "name": "stderr",
     "output_type": "stream",
     "text": [
      "\n",
      "100%|██████████| 764/764 [06:24<00:00,  1.99it/s]\n",
      "epoch 8 loss: 0.0023: 100%|██████████| 191/191 [01:01<00:00,  3.12it/s]"
     ]
    },
    {
     "name": "stdout",
     "output_type": "stream",
     "text": [
      "validation class accuracy = 0.9989\n",
      "Epoch 9 - avg_train_loss: 0.0015  avg_val_loss: 0.0023\n",
      "Epoch 9 - Accuracy: 0.9988547120418848\n"
     ]
    },
    {
     "name": "stderr",
     "output_type": "stream",
     "text": [
      "\n",
      "100%|██████████| 764/764 [06:24<00:00,  1.99it/s]\n",
      "epoch 9 loss: 0.0028: 100%|██████████| 191/191 [01:02<00:00,  3.03it/s]"
     ]
    },
    {
     "name": "stdout",
     "output_type": "stream",
     "text": [
      "validation class accuracy = 0.9990\n",
      "Epoch 10 - avg_train_loss: 0.0009  avg_val_loss: 0.0028\n",
      "Epoch 10 - Accuracy: 0.9990183246073299\n"
     ]
    },
    {
     "name": "stderr",
     "output_type": "stream",
     "text": [
      "\n",
      "100%|██████████| 764/764 [06:23<00:00,  1.99it/s]\n",
      "epoch 10 loss: 0.0018: 100%|██████████| 191/191 [01:00<00:00,  3.17it/s]"
     ]
    },
    {
     "name": "stdout",
     "output_type": "stream",
     "text": [
      "validation class accuracy = 0.9995\n",
      "Epoch 11 - avg_train_loss: 0.0003  avg_val_loss: 0.0018\n",
      "Epoch 11 - Accuracy: 0.9995091623036649\n"
     ]
    },
    {
     "name": "stderr",
     "output_type": "stream",
     "text": [
      "\n",
      "100%|██████████| 764/764 [06:25<00:00,  1.98it/s]\n",
      "epoch 11 loss: 0.0028: 100%|██████████| 191/191 [01:00<00:00,  3.14it/s]"
     ]
    },
    {
     "name": "stdout",
     "output_type": "stream",
     "text": [
      "validation class accuracy = 0.9990\n",
      "Epoch 12 - avg_train_loss: 0.0004  avg_val_loss: 0.0028\n",
      "Epoch 12 - Accuracy: 0.9990183246073299\n"
     ]
    },
    {
     "name": "stderr",
     "output_type": "stream",
     "text": [
      "\n",
      "100%|██████████| 764/764 [06:25<00:00,  1.98it/s]\n",
      "epoch 12 loss: 0.0024: 100%|██████████| 191/191 [01:04<00:00,  2.96it/s]"
     ]
    },
    {
     "name": "stdout",
     "output_type": "stream",
     "text": [
      "validation class accuracy = 0.9990\n",
      "Epoch 13 - avg_train_loss: 0.0002  avg_val_loss: 0.0024\n",
      "Epoch 13 - Accuracy: 0.9990183246073299\n"
     ]
    },
    {
     "name": "stderr",
     "output_type": "stream",
     "text": [
      "\n",
      "100%|██████████| 764/764 [06:23<00:00,  1.99it/s]\n",
      "epoch 13 loss: 0.0020: 100%|██████████| 191/191 [01:02<00:00,  3.06it/s]"
     ]
    },
    {
     "name": "stdout",
     "output_type": "stream",
     "text": [
      "validation class accuracy = 0.9995\n",
      "Epoch 14 - avg_train_loss: 0.0003  avg_val_loss: 0.0020\n",
      "Epoch 14 - Accuracy: 0.9995091623036649\n"
     ]
    },
    {
     "name": "stderr",
     "output_type": "stream",
     "text": [
      "\n",
      "100%|██████████| 764/764 [06:27<00:00,  1.97it/s]\n",
      "epoch 14 loss: 0.0017: 100%|██████████| 191/191 [01:00<00:00,  3.16it/s]"
     ]
    },
    {
     "name": "stdout",
     "output_type": "stream",
     "text": [
      "validation class accuracy = 0.9995\n",
      "Epoch 15 - avg_train_loss: 0.0000  avg_val_loss: 0.0017\n",
      "Epoch 15 - Accuracy: 0.9995091623036649\n"
     ]
    },
    {
     "name": "stderr",
     "output_type": "stream",
     "text": [
      "\n",
      "100%|██████████| 764/764 [06:29<00:00,  1.96it/s]\n",
      "epoch 15 loss: 0.0027: 100%|██████████| 191/191 [01:01<00:00,  3.13it/s]\n"
     ]
    },
    {
     "name": "stdout",
     "output_type": "stream",
     "text": [
      "validation class accuracy = 0.9993\n",
      "Epoch 16 - avg_train_loss: 0.0001  avg_val_loss: 0.0027\n",
      "Epoch 16 - Accuracy: 0.9993455497382199\n"
     ]
    },
    {
     "name": "stderr",
     "output_type": "stream",
     "text": [
      "100%|██████████| 764/764 [06:29<00:00,  1.96it/s]\n",
      "epoch 16 loss: 0.0023: 100%|██████████| 191/191 [01:05<00:00,  2.90it/s]"
     ]
    },
    {
     "name": "stdout",
     "output_type": "stream",
     "text": [
      "validation class accuracy = 0.9992\n",
      "Epoch 17 - avg_train_loss: 0.0002  avg_val_loss: 0.0023\n",
      "Epoch 17 - Accuracy: 0.9991819371727748\n"
     ]
    },
    {
     "name": "stderr",
     "output_type": "stream",
     "text": [
      "\n",
      "100%|██████████| 764/764 [06:23<00:00,  1.99it/s]\n",
      "epoch 17 loss: 0.0023: 100%|██████████| 191/191 [01:00<00:00,  3.16it/s]"
     ]
    },
    {
     "name": "stdout",
     "output_type": "stream",
     "text": [
      "validation class accuracy = 0.9992\n",
      "Epoch 18 - avg_train_loss: 0.0001  avg_val_loss: 0.0023\n",
      "Epoch 18 - Accuracy: 0.9991819371727748\n"
     ]
    },
    {
     "name": "stderr",
     "output_type": "stream",
     "text": [
      "\n",
      "100%|██████████| 764/764 [06:26<00:00,  1.97it/s]\n",
      "epoch 18 loss: 0.0022: 100%|██████████| 191/191 [01:00<00:00,  3.18it/s]"
     ]
    },
    {
     "name": "stdout",
     "output_type": "stream",
     "text": [
      "validation class accuracy = 0.9992\n",
      "Epoch 19 - avg_train_loss: 0.0000  avg_val_loss: 0.0022\n",
      "Epoch 19 - Accuracy: 0.9991819371727748\n"
     ]
    },
    {
     "name": "stderr",
     "output_type": "stream",
     "text": [
      "\n",
      "100%|██████████| 764/764 [06:21<00:00,  2.00it/s]\n",
      "epoch 19 loss: 0.0025: 100%|██████████| 191/191 [01:05<00:00,  2.91it/s]\n"
     ]
    },
    {
     "name": "stdout",
     "output_type": "stream",
     "text": [
      "validation class accuracy = 0.9990\n",
      "Epoch 20 - avg_train_loss: 0.0001  avg_val_loss: 0.0025\n",
      "Epoch 20 - Accuracy: 0.9990183246073299\n"
     ]
    },
    {
     "name": "stderr",
     "output_type": "stream",
     "text": [
      "100%|██████████| 764/764 [06:22<00:00,  2.00it/s]\n",
      "epoch 0 loss: 0.0027: 100%|██████████| 191/191 [01:00<00:00,  3.15it/s]\n"
     ]
    },
    {
     "name": "stdout",
     "output_type": "stream",
     "text": [
      "validation class accuracy = 0.9998\n",
      "Epoch 1 - avg_train_loss: 0.0507  avg_val_loss: 0.0027\n",
      "Epoch 1 - Accuracy: 0.9998363874345549\n",
      "Epoch 1 - Save Best Score: 0.9998 Model\n"
     ]
    },
    {
     "name": "stderr",
     "output_type": "stream",
     "text": [
      "100%|██████████| 764/764 [06:27<00:00,  1.97it/s]\n",
      "epoch 1 loss: 0.0039: 100%|██████████| 191/191 [01:00<00:00,  3.15it/s]"
     ]
    },
    {
     "name": "stdout",
     "output_type": "stream",
     "text": [
      "validation class accuracy = 0.9992\n",
      "Epoch 2 - avg_train_loss: 0.0049  avg_val_loss: 0.0039\n",
      "Epoch 2 - Accuracy: 0.9991819371727748\n"
     ]
    },
    {
     "name": "stderr",
     "output_type": "stream",
     "text": [
      "\n",
      "100%|██████████| 764/764 [06:23<00:00,  1.99it/s]\n",
      "epoch 2 loss: 0.0022: 100%|██████████| 191/191 [01:03<00:00,  3.00it/s]\n"
     ]
    },
    {
     "name": "stdout",
     "output_type": "stream",
     "text": [
      "validation class accuracy = 0.9995\n",
      "Epoch 3 - avg_train_loss: 0.0036  avg_val_loss: 0.0022\n",
      "Epoch 3 - Accuracy: 0.9995091623036649\n"
     ]
    },
    {
     "name": "stderr",
     "output_type": "stream",
     "text": [
      "100%|██████████| 764/764 [06:24<00:00,  1.99it/s]\n",
      "epoch 3 loss: 0.0078: 100%|██████████| 191/191 [01:00<00:00,  3.13it/s]"
     ]
    },
    {
     "name": "stdout",
     "output_type": "stream",
     "text": [
      "validation class accuracy = 0.9974\n",
      "Epoch 4 - avg_train_loss: 0.0017  avg_val_loss: 0.0078\n",
      "Epoch 4 - Accuracy: 0.9973821989528796\n"
     ]
    },
    {
     "name": "stderr",
     "output_type": "stream",
     "text": [
      "\n",
      "100%|██████████| 764/764 [06:26<00:00,  1.98it/s]\n",
      "epoch 4 loss: 0.0027: 100%|██████████| 191/191 [01:00<00:00,  3.16it/s]"
     ]
    },
    {
     "name": "stdout",
     "output_type": "stream",
     "text": [
      "validation class accuracy = 0.9992\n",
      "Epoch 5 - avg_train_loss: 0.0021  avg_val_loss: 0.0027\n",
      "Epoch 5 - Accuracy: 0.9991819371727748\n"
     ]
    },
    {
     "name": "stderr",
     "output_type": "stream",
     "text": [
      "\n",
      "100%|██████████| 764/764 [06:23<00:00,  1.99it/s]\n",
      "epoch 5 loss: 0.0023: 100%|██████████| 191/191 [01:04<00:00,  2.95it/s]"
     ]
    },
    {
     "name": "stdout",
     "output_type": "stream",
     "text": [
      "validation class accuracy = 0.9993\n",
      "Epoch 6 - avg_train_loss: 0.0012  avg_val_loss: 0.0023\n",
      "Epoch 6 - Accuracy: 0.9993455497382199\n"
     ]
    },
    {
     "name": "stderr",
     "output_type": "stream",
     "text": [
      "\n",
      "100%|██████████| 764/764 [06:24<00:00,  1.99it/s]\n",
      "epoch 6 loss: 0.0024: 100%|██████████| 191/191 [01:00<00:00,  3.16it/s]"
     ]
    },
    {
     "name": "stdout",
     "output_type": "stream",
     "text": [
      "validation class accuracy = 0.9993\n",
      "Epoch 7 - avg_train_loss: 0.0004  avg_val_loss: 0.0024\n",
      "Epoch 7 - Accuracy: 0.9993455497382199\n"
     ]
    },
    {
     "name": "stderr",
     "output_type": "stream",
     "text": [
      "\n",
      "100%|██████████| 764/764 [06:28<00:00,  1.97it/s]\n",
      "epoch 7 loss: 0.0019: 100%|██████████| 191/191 [01:00<00:00,  3.17it/s]"
     ]
    },
    {
     "name": "stdout",
     "output_type": "stream",
     "text": [
      "validation class accuracy = 0.9992\n",
      "Epoch 8 - avg_train_loss: 0.0011  avg_val_loss: 0.0019\n",
      "Epoch 8 - Accuracy: 0.9991819371727748\n"
     ]
    },
    {
     "name": "stderr",
     "output_type": "stream",
     "text": [
      "\n",
      "100%|██████████| 764/764 [06:23<00:00,  1.99it/s]\n",
      "epoch 8 loss: 0.0019: 100%|██████████| 191/191 [01:08<00:00,  2.81it/s]\n"
     ]
    },
    {
     "name": "stdout",
     "output_type": "stream",
     "text": [
      "validation class accuracy = 0.9995\n",
      "Epoch 9 - avg_train_loss: 0.0007  avg_val_loss: 0.0019\n",
      "Epoch 9 - Accuracy: 0.9995091623036649\n"
     ]
    },
    {
     "name": "stderr",
     "output_type": "stream",
     "text": [
      "100%|██████████| 764/764 [06:25<00:00,  1.98it/s]\n",
      "epoch 9 loss: 0.0030: 100%|██████████| 191/191 [01:00<00:00,  3.16it/s]"
     ]
    },
    {
     "name": "stdout",
     "output_type": "stream",
     "text": [
      "validation class accuracy = 0.9990\n",
      "Epoch 10 - avg_train_loss: 0.0006  avg_val_loss: 0.0030\n",
      "Epoch 10 - Accuracy: 0.9990183246073299\n"
     ]
    },
    {
     "name": "stderr",
     "output_type": "stream",
     "text": [
      "\n",
      "100%|██████████| 764/764 [06:30<00:00,  1.96it/s]\n",
      "epoch 10 loss: 0.0017: 100%|██████████| 191/191 [01:00<00:00,  3.15it/s]"
     ]
    },
    {
     "name": "stdout",
     "output_type": "stream",
     "text": [
      "validation class accuracy = 0.9993\n",
      "Epoch 11 - avg_train_loss: 0.0002  avg_val_loss: 0.0017\n",
      "Epoch 11 - Accuracy: 0.9993455497382199\n"
     ]
    },
    {
     "name": "stderr",
     "output_type": "stream",
     "text": [
      "\n",
      "100%|██████████| 764/764 [06:23<00:00,  1.99it/s]\n",
      "epoch 11 loss: 0.0022: 100%|██████████| 191/191 [01:03<00:00,  3.03it/s]\n"
     ]
    },
    {
     "name": "stdout",
     "output_type": "stream",
     "text": [
      "validation class accuracy = 0.9990\n",
      "Epoch 12 - avg_train_loss: 0.0006  avg_val_loss: 0.0022\n",
      "Epoch 12 - Accuracy: 0.9990183246073299\n"
     ]
    },
    {
     "name": "stderr",
     "output_type": "stream",
     "text": [
      "100%|██████████| 764/764 [06:29<00:00,  1.96it/s]\n",
      "epoch 12 loss: 0.0018: 100%|██████████| 191/191 [01:01<00:00,  3.08it/s]"
     ]
    },
    {
     "name": "stdout",
     "output_type": "stream",
     "text": [
      "validation class accuracy = 0.9995\n",
      "Epoch 13 - avg_train_loss: 0.0008  avg_val_loss: 0.0018\n",
      "Epoch 13 - Accuracy: 0.9995091623036649\n"
     ]
    },
    {
     "name": "stderr",
     "output_type": "stream",
     "text": [
      "\n",
      "100%|██████████| 764/764 [06:28<00:00,  1.96it/s]\n",
      "epoch 13 loss: 0.0017: 100%|██████████| 191/191 [01:03<00:00,  2.99it/s]"
     ]
    },
    {
     "name": "stdout",
     "output_type": "stream",
     "text": [
      "validation class accuracy = 0.9997\n",
      "Epoch 14 - avg_train_loss: 0.0002  avg_val_loss: 0.0017\n",
      "Epoch 14 - Accuracy: 0.99967277486911\n"
     ]
    },
    {
     "name": "stderr",
     "output_type": "stream",
     "text": [
      "\n",
      "100%|██████████| 764/764 [06:25<00:00,  1.98it/s]\n",
      "epoch 14 loss: 0.0071: 100%|██████████| 191/191 [00:59<00:00,  3.19it/s]"
     ]
    },
    {
     "name": "stdout",
     "output_type": "stream",
     "text": [
      "validation class accuracy = 0.9984\n",
      "Epoch 15 - avg_train_loss: 0.0004  avg_val_loss: 0.0071\n",
      "Epoch 15 - Accuracy: 0.9983638743455497\n"
     ]
    },
    {
     "name": "stderr",
     "output_type": "stream",
     "text": [
      "\n",
      "100%|██████████| 764/764 [06:30<00:00,  1.96it/s]\n",
      "epoch 15 loss: 0.0015: 100%|██████████| 191/191 [01:00<00:00,  3.17it/s]"
     ]
    },
    {
     "name": "stdout",
     "output_type": "stream",
     "text": [
      "validation class accuracy = 0.9995\n",
      "Epoch 16 - avg_train_loss: 0.0002  avg_val_loss: 0.0015\n",
      "Epoch 16 - Accuracy: 0.9995091623036649\n"
     ]
    },
    {
     "name": "stderr",
     "output_type": "stream",
     "text": [
      "\n",
      "100%|██████████| 764/764 [06:24<00:00,  1.99it/s]\n",
      "epoch 16 loss: 0.0010: 100%|██████████| 191/191 [01:04<00:00,  2.96it/s]\n"
     ]
    },
    {
     "name": "stdout",
     "output_type": "stream",
     "text": [
      "validation class accuracy = 0.9997\n",
      "Epoch 17 - avg_train_loss: 0.0002  avg_val_loss: 0.0010\n",
      "Epoch 17 - Accuracy: 0.99967277486911\n"
     ]
    },
    {
     "name": "stderr",
     "output_type": "stream",
     "text": [
      "100%|██████████| 764/764 [06:29<00:00,  1.96it/s]\n",
      "epoch 17 loss: 0.0012: 100%|██████████| 191/191 [01:00<00:00,  3.15it/s]"
     ]
    },
    {
     "name": "stdout",
     "output_type": "stream",
     "text": [
      "validation class accuracy = 0.9998\n",
      "Epoch 18 - avg_train_loss: 0.0002  avg_val_loss: 0.0012\n",
      "Epoch 18 - Accuracy: 0.9998363874345549\n"
     ]
    },
    {
     "name": "stderr",
     "output_type": "stream",
     "text": [
      "\n",
      "100%|██████████| 764/764 [06:30<00:00,  1.95it/s]\n",
      "epoch 18 loss: 0.0011: 100%|██████████| 191/191 [01:12<00:00,  2.62it/s]\n"
     ]
    },
    {
     "name": "stdout",
     "output_type": "stream",
     "text": [
      "validation class accuracy = 0.9997\n",
      "Epoch 19 - avg_train_loss: 0.0001  avg_val_loss: 0.0011\n",
      "Epoch 19 - Accuracy: 0.99967277486911\n"
     ]
    },
    {
     "name": "stderr",
     "output_type": "stream",
     "text": [
      "100%|██████████| 764/764 [06:27<00:00,  1.97it/s]\n",
      "epoch 19 loss: 0.0012: 100%|██████████| 191/191 [01:04<00:00,  2.97it/s]"
     ]
    },
    {
     "name": "stdout",
     "output_type": "stream",
     "text": [
      "validation class accuracy = 0.9998\n",
      "Epoch 20 - avg_train_loss: 0.0001  avg_val_loss: 0.0012\n",
      "Epoch 20 - Accuracy: 0.9998363874345549\n"
     ]
    },
    {
     "name": "stderr",
     "output_type": "stream",
     "text": [
      "\n"
     ]
    }
   ],
   "source": [
    "for fold in range(5):\n",
    "    if fold >1:\n",
    "        continue\n",
    "    train = df[df.fold != fold]\n",
    "    val = df[df.fold == fold]\n",
    "    train_dataset = CatDogDataset(train, train_transforms(), 'train')\n",
    "    val_dataset = CatDogDataset(val, valid_transforms(), 'train')\n",
    "    device = 'cuda' if torch.cuda.is_available() else 'cpu'\n",
    "    \n",
    "    train_loader = DataLoader(\n",
    "        train_dataset,\n",
    "        batch_size=32,\n",
    "        shuffle=True,\n",
    "        num_workers=4,\n",
    "        pin_memory=False,\n",
    "        drop_last=True)\n",
    "    \n",
    "    val_loader = DataLoader(\n",
    "        val_dataset,\n",
    "        batch_size=32,\n",
    "        shuffle=False,\n",
    "        num_workers=4,\n",
    "        pin_memory=False,\n",
    "        drop_last=True)\n",
    "    \n",
    "    loss = torch.nn.BCEWithLogitsLoss()\n",
    "    model = Custom2DCNN().to(device)\n",
    "\n",
    "    best_score = 0.\n",
    "    \n",
    "    scaler = GradScaler()\n",
    "    optimizer = torch.optim.Adam(model.parameters(), lr=1e-4, weight_decay=1e-5)    \n",
    "    scheduler = CosineAnnealingLR(optimizer, T_max=20, eta_min=1e-5, last_epoch=-1)\n",
    "\n",
    "    for epoch in range(20):\n",
    "        train_loss = train_fn(\n",
    "            epoch, model, loss, optimizer, train_loader, scaler, device, scheduler=scheduler)\n",
    "        with torch.no_grad():\n",
    "            valid_loss, valid_preds, valid_labels = valid_fn(\n",
    "                epoch, model, loss, val_loader, device, scheduler=None)\n",
    "        score = get_score(valid_labels, valid_preds)\n",
    "        print(f'Epoch {epoch+1} - avg_train_loss: {train_loss:.4f}  avg_val_loss: {valid_loss:.4f}')\n",
    "        print(f'Epoch {epoch+1} - Accuracy: {score}')\n",
    "        if score > best_score:\n",
    "            best_score = score\n",
    "            print(f'Epoch {epoch+1} - Save Best Score: {best_score:.4f} Model')\n",
    "            torch.save({'model': model.state_dict(), 'preds': valid_preds}, f'fold_{fold}_best.pth')\n",
    "        torch.save(model.state_dict(), f'fold_{fold}_{epoch}.pth')\n"
   ]
  },
  {
   "cell_type": "code",
   "execution_count": null,
   "id": "7995d986",
   "metadata": {
    "papermill": {
     "duration": 13.049792,
     "end_time": "2021-10-06T09:38:34.311759",
     "exception": false,
     "start_time": "2021-10-06T09:38:21.261967",
     "status": "completed"
    },
    "tags": []
   },
   "outputs": [],
   "source": []
  },
  {
   "cell_type": "code",
   "execution_count": null,
   "id": "2287d358",
   "metadata": {
    "papermill": {
     "duration": 12.622492,
     "end_time": "2021-10-06T09:38:59.470691",
     "exception": false,
     "start_time": "2021-10-06T09:38:46.848199",
     "status": "completed"
    },
    "tags": []
   },
   "outputs": [],
   "source": []
  }
 ],
 "metadata": {
  "kernelspec": {
   "display_name": "Python 3",
   "language": "python",
   "name": "python3"
  },
  "language_info": {
   "codemirror_mode": {
    "name": "ipython",
    "version": 3
   },
   "file_extension": ".py",
   "mimetype": "text/x-python",
   "name": "python",
   "nbconvert_exporter": "python",
   "pygments_lexer": "ipython3",
   "version": "3.7.10"
  },
  "papermill": {
   "default_parameters": {},
   "duration": 18072.960977,
   "end_time": "2021-10-06T09:39:14.557453",
   "environment_variables": {},
   "exception": null,
   "input_path": "__notebook__.ipynb",
   "output_path": "__notebook__.ipynb",
   "parameters": {},
   "start_time": "2021-10-06T04:38:01.596476",
   "version": "2.3.3"
  }
 },
 "nbformat": 4,
 "nbformat_minor": 5
}
