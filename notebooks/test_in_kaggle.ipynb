{
 "cells": [
  {
   "cell_type": "code",
   "execution_count": 1,
   "id": "3bf995fe",
   "metadata": {
    "execution": {
     "iopub.execute_input": "2021-10-08T13:04:24.939630Z",
     "iopub.status.busy": "2021-10-08T13:04:24.938810Z",
     "iopub.status.idle": "2021-10-08T13:05:24.667167Z",
     "shell.execute_reply": "2021-10-08T13:05:24.665815Z",
     "shell.execute_reply.started": "2021-10-08T12:57:55.980683Z"
    },
    "papermill": {
     "duration": 59.819801,
     "end_time": "2021-10-08T13:05:24.667375",
     "exception": false,
     "start_time": "2021-10-08T13:04:24.847574",
     "status": "completed"
    },
    "tags": []
   },
   "outputs": [
    {
     "name": "stdout",
     "output_type": "stream",
     "text": [
      "PyYAML-5.4b2-cp37-cp37m-manylinux1_x86_64.whl\r\n",
      "antlr4-python3-runtime-4.8.tar.gz\r\n",
      "hydra_core-1.0.5-py3-none-any.whl\r\n",
      "importlib_resources-5.0.0-py3-none-any.whl\r\n",
      "omegaconf-2.0.5-py3-none-any.whl\r\n",
      "typing_extensions-3.7.4.3-py3-none-any.whl\r\n",
      "zipp-3.4.0-py3-none-any.whl\r\n",
      "Processing ./hydracore105/PyYAML-5.4b2-cp37-cp37m-manylinux1_x86_64.whl\r\n",
      "Processing ./hydracore105/antlr4-python3-runtime-4.8.tar.gz\r\n",
      "Processing ./hydracore105/hydra_core-1.0.5-py3-none-any.whl\r\n",
      "Processing ./hydracore105/importlib_resources-5.0.0-py3-none-any.whl\r\n",
      "Processing ./hydracore105/omegaconf-2.0.5-py3-none-any.whl\r\n",
      "Processing ./hydracore105/typing_extensions-3.7.4.3-py3-none-any.whl\r\n",
      "Processing ./hydracore105/zipp-3.4.0-py3-none-any.whl\r\n",
      "Building wheels for collected packages: antlr4-python3-runtime\r\n",
      "  Building wheel for antlr4-python3-runtime (setup.py) ... \u001b[?25l-\b \b\\\b \bdone\r\n",
      "\u001b[?25h  Created wheel for antlr4-python3-runtime: filename=antlr4_python3_runtime-4.8-py3-none-any.whl size=141230 sha256=de6923934a6fc9d452ac59501b59dfbb5e5cfd755cb581e59a02e835e74b3f72\r\n",
      "  Stored in directory: /root/.cache/pip/wheels/c7/79/15/c9caa87b6ca8f7614a6198dd8e2111f8f909088b97f736d303\r\n",
      "Successfully built antlr4-python3-runtime\r\n",
      "Installing collected packages: zipp, typing-extensions, PyYAML, omegaconf, importlib-resources, antlr4-python3-runtime, hydra-core\r\n",
      "\u001b[31mERROR: pip's dependency resolver does not currently take into account all the packages that are installed. This behaviour is the source of the following dependency conflicts.\r\n",
      "dask-cudf 21.8.3 requires cupy-cuda114, which is not installed.\r\n",
      "cudf 21.8.3 requires cupy-cuda110, which is not installed.\r\n",
      "kubernetes 18.20.0 requires pyyaml>=5.4.1, but you have pyyaml 5.4b2 which is incompatible.\r\n",
      "featuretools 0.27.1 requires pyyaml>=5.4, but you have pyyaml 5.4b2 which is incompatible.\r\n",
      "dask-cudf 21.8.3 requires dask<=2021.07.1,>=2021.6.0, but you have dask 2021.9.0 which is incompatible.\r\n",
      "dask-cudf 21.8.3 requires distributed<=2021.07.1,>=2021.6.0, but you have distributed 2021.9.0 which is incompatible.\r\n",
      "aiobotocore 1.4.1 requires botocore<1.20.107,>=1.20.106, but you have botocore 1.21.44 which is incompatible.\u001b[0m\r\n",
      "Successfully installed PyYAML-5.4.1 antlr4-python3-runtime-4.8 hydra-core-1.0.5 importlib-resources-5.2.2 omegaconf-2.0.5 typing-extensions-3.7.4.3 zipp-3.5.0\r\n",
      "\u001b[33mWARNING: Running pip as the 'root' user can result in broken permissions and conflicting behaviour with the system package manager. It is recommended to use a virtual environment instead: https://pip.pypa.io/warnings/venv\u001b[0m\r\n",
      "Processing /kaggle/input/hydracore105/omegaconf-2.0.5-py3-none-any.whl\r\n",
      "Requirement already satisfied: typing-extensions in /opt/conda/lib/python3.7/site-packages (from omegaconf==2.0.5) (3.7.4.3)\r\n",
      "Requirement already satisfied: PyYAML>=5.1.* in /opt/conda/lib/python3.7/site-packages (from omegaconf==2.0.5) (5.4.1)\r\n",
      "omegaconf is already installed with the same version as the provided wheel. Use --force-reinstall to force an installation of the wheel.\r\n",
      "\u001b[33mWARNING: Running pip as the 'root' user can result in broken permissions and conflicting behaviour with the system package manager. It is recommended to use a virtual environment instead: https://pip.pypa.io/warnings/venv\u001b[0m\r\n"
     ]
    }
   ],
   "source": [
    "!cp -r /kaggle/input/hydracore105 /kaggle/working\n",
    "!mv /kaggle/working/hydracore105/antlr4-python3-runtime-4.8.tar.gz.tmp /kaggle/working/hydracore105/antlr4-python3-runtime-4.8.tar.gz\n",
    "!ls /kaggle/working/hydracore105\n",
    "!pip install /kaggle/working/hydracore105/* --ignore-installed PyYAML\n",
    "!pip install ../input/hydracore105/omegaconf-2.0.5-py3-none-any.whl"
   ]
  },
  {
   "cell_type": "code",
   "execution_count": 2,
   "id": "06a9d60c",
   "metadata": {
    "execution": {
     "iopub.execute_input": "2021-10-08T13:05:24.706073Z",
     "iopub.status.busy": "2021-10-08T13:05:24.705227Z",
     "iopub.status.idle": "2021-10-08T13:06:54.397522Z",
     "shell.execute_reply": "2021-10-08T13:06:54.396568Z"
    },
    "papermill": {
     "duration": 89.71824,
     "end_time": "2021-10-08T13:06:54.397673",
     "exception": false,
     "start_time": "2021-10-08T13:05:24.679433",
     "status": "completed"
    },
    "tags": []
   },
   "outputs": [
    {
     "name": "stdout",
     "output_type": "stream",
     "text": [
      "[2021-10-08 13:05:38,386][numexpr.utils][INFO] - NumExpr defaulting to 2 threads.\r\n",
      "[2021-10-08 13:05:38,467][pytorch_lightning.utilities.distributed][INFO] - GPU available: True, used: True\r\n",
      "[2021-10-08 13:05:38,467][pytorch_lightning.utilities.distributed][INFO] - TPU available: False, using: 0 TPU cores\r\n",
      "[2021-10-08 13:05:38,467][pytorch_lightning.utilities.distributed][INFO] - IPU available: False, using: 0 IPUs\r\n",
      "[2021-10-08 13:05:49,292][pytorch_lightning.accelerators.gpu][INFO] - LOCAL_RANK: 0 - CUDA_VISIBLE_DEVICES: [0]\r\n",
      "2021-10-08 13:05:56.692850: I tensorflow/stream_executor/platform/default/dso_loader.cc:49] Successfully opened dynamic library libcudart.so.11.0\r\n",
      "Testing: 100%|████████████████████████████████████| 1/1 [00:00<00:00,  3.09it/s]--------------------------------------------------------------------------------\r\n",
      "DATALOADER:0 TEST RESULTS\r\n",
      "{}\r\n",
      "--------------------------------------------------------------------------------\r\n",
      "Testing: 100%|████████████████████████████████████| 1/1 [00:00<00:00,  2.70it/s]\r\n",
      "[2021-10-08 13:06:04,904][pytorch_lightning.utilities.distributed][INFO] - GPU available: True, used: True\r\n",
      "[2021-10-08 13:06:04,904][pytorch_lightning.utilities.distributed][INFO] - TPU available: False, using: 0 TPU cores\r\n",
      "[2021-10-08 13:06:04,904][pytorch_lightning.utilities.distributed][INFO] - IPU available: False, using: 0 IPUs\r\n",
      "[2021-10-08 13:06:15,562][pytorch_lightning.accelerators.gpu][INFO] - LOCAL_RANK: 0 - CUDA_VISIBLE_DEVICES: [0]\r\n",
      "Testing: 100%|████████████████████████████████████| 1/1 [00:00<00:00,  6.34it/s]--------------------------------------------------------------------------------\r\n",
      "DATALOADER:0 TEST RESULTS\r\n",
      "{}\r\n",
      "--------------------------------------------------------------------------------\r\n",
      "Testing: 100%|████████████████████████████████████| 1/1 [00:00<00:00,  4.36it/s]\r\n",
      "[2021-10-08 13:06:18,169][pytorch_lightning.utilities.distributed][INFO] - GPU available: True, used: True\r\n",
      "[2021-10-08 13:06:18,169][pytorch_lightning.utilities.distributed][INFO] - TPU available: False, using: 0 TPU cores\r\n",
      "[2021-10-08 13:06:18,169][pytorch_lightning.utilities.distributed][INFO] - IPU available: False, using: 0 IPUs\r\n",
      "[2021-10-08 13:06:27,730][pytorch_lightning.accelerators.gpu][INFO] - LOCAL_RANK: 0 - CUDA_VISIBLE_DEVICES: [0]\r\n",
      "Testing: 100%|████████████████████████████████████| 1/1 [00:00<00:00,  6.74it/s]--------------------------------------------------------------------------------\r\n",
      "DATALOADER:0 TEST RESULTS\r\n",
      "{}\r\n",
      "--------------------------------------------------------------------------------\r\n",
      "Testing: 100%|████████████████████████████████████| 1/1 [00:00<00:00,  4.63it/s]\r\n",
      "[2021-10-08 13:06:30,499][pytorch_lightning.utilities.distributed][INFO] - GPU available: True, used: True\r\n",
      "[2021-10-08 13:06:30,499][pytorch_lightning.utilities.distributed][INFO] - TPU available: False, using: 0 TPU cores\r\n",
      "[2021-10-08 13:06:30,499][pytorch_lightning.utilities.distributed][INFO] - IPU available: False, using: 0 IPUs\r\n",
      "[2021-10-08 13:06:40,250][pytorch_lightning.accelerators.gpu][INFO] - LOCAL_RANK: 0 - CUDA_VISIBLE_DEVICES: [0]\r\n",
      "Testing: 100%|████████████████████████████████████| 1/1 [00:00<00:00,  6.32it/s]--------------------------------------------------------------------------------\r\n",
      "DATALOADER:0 TEST RESULTS\r\n",
      "{}\r\n",
      "--------------------------------------------------------------------------------\r\n",
      "Testing: 100%|████████████████████████████████████| 1/1 [00:00<00:00,  4.40it/s]\r\n",
      "[2021-10-08 13:06:42,632][pytorch_lightning.utilities.distributed][INFO] - GPU available: True, used: True\r\n",
      "[2021-10-08 13:06:42,632][pytorch_lightning.utilities.distributed][INFO] - TPU available: False, using: 0 TPU cores\r\n",
      "[2021-10-08 13:06:42,632][pytorch_lightning.utilities.distributed][INFO] - IPU available: False, using: 0 IPUs\r\n",
      "[2021-10-08 13:06:52,016][pytorch_lightning.accelerators.gpu][INFO] - LOCAL_RANK: 0 - CUDA_VISIBLE_DEVICES: [0]\r\n",
      "Testing: 100%|████████████████████████████████████| 1/1 [00:00<00:00,  6.61it/s]--------------------------------------------------------------------------------\r\n",
      "DATALOADER:0 TEST RESULTS\r\n",
      "{}\r\n",
      "--------------------------------------------------------------------------------\r\n",
      "Testing: 100%|████████████████████████████████████| 1/1 [00:00<00:00,  4.58it/s]\r\n"
     ]
    }
   ],
   "source": [
    "!python ../input/petfinder/test.py \\\n",
    "default.train_path=\"/kaggle/input/petfinder-pawpularity-score/train.csv\" \\\n",
    "default.test_path=\"/kaggle/input/petfinder-pawpularity-score/test.csv\" \\\n",
    "default.train_dir=\"/kaggle/input/petfinder-pawpularity-score/train\" \\\n",
    "default.test_dir=\"/kaggle/input/petfinder-pawpularity-score/test\" \\\n",
    "default.ckp_dir=\"/kaggle/input/pet-trainer/outputs/exp18/checkpoints\" \\\n",
    "model.backborn=\"swin_base_patch4_window7_224\" \\\n",
    "default.img_size=224 \\\n",
    "model.metric=\"linear\" \\\n",
    "pretrained=False \\\n",
    "in_kaggle=True  \\\n",
    "model.metric=\"ver2\"\n"
   ]
  },
  {
   "cell_type": "code",
   "execution_count": null,
   "id": "ce269e83",
   "metadata": {
    "papermill": {
     "duration": 0.013868,
     "end_time": "2021-10-08T13:06:54.426640",
     "exception": false,
     "start_time": "2021-10-08T13:06:54.412772",
     "status": "completed"
    },
    "tags": []
   },
   "outputs": [],
   "source": []
  },
  {
   "cell_type": "code",
   "execution_count": null,
   "id": "ef97a2f2",
   "metadata": {
    "papermill": {
     "duration": 0.013622,
     "end_time": "2021-10-08T13:06:54.454174",
     "exception": false,
     "start_time": "2021-10-08T13:06:54.440552",
     "status": "completed"
    },
    "tags": []
   },
   "outputs": [],
   "source": []
  }
 ],
 "metadata": {
  "kernelspec": {
   "display_name": "Python 3",
   "language": "python",
   "name": "python3"
  },
  "language_info": {
   "codemirror_mode": {
    "name": "ipython",
    "version": 3
   },
   "file_extension": ".py",
   "mimetype": "text/x-python",
   "name": "python",
   "nbconvert_exporter": "python",
   "pygments_lexer": "ipython3",
   "version": "3.7.10"
  },
  "papermill": {
   "default_parameters": {},
   "duration": 157.449569,
   "end_time": "2021-10-08T13:06:54.876089",
   "environment_variables": {},
   "exception": null,
   "input_path": "__notebook__.ipynb",
   "output_path": "__notebook__.ipynb",
   "parameters": {},
   "start_time": "2021-10-08T13:04:17.426520",
   "version": "2.3.3"
  }
 },
 "nbformat": 4,
 "nbformat_minor": 5
}
